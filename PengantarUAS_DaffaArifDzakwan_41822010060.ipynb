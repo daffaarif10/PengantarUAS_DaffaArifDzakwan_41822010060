{
 "cells": [
  {
   "cell_type": "code",
   "execution_count": 1,
   "id": "15b2838c-b6b2-4739-9b6e-cbca9b57e6f5",
   "metadata": {},
   "outputs": [
    {
     "data": {
      "text/plain": [
       "(0, False, 'PML15523', 'can only concatenate str (not \"int\") to str', False)"
      ]
     },
     "execution_count": 1,
     "metadata": {},
     "output_type": "execute_result"
    }
   ],
   "source": [
    "# a. 15 mod 5\n",
    "a = 15 % 5\n",
    "\n",
    "# b. 12 + 3 * 5 == 75\n",
    "b = 12 + 3 * 5 == 75\n",
    "\n",
    "# c. \"PML\" + \"15523\"\n",
    "c = \"PML\" + \"15523\"\n",
    "\n",
    "# d. \"100\" + 234\n",
    "try:\n",
    "    d = \"100\" + 234\n",
    "except TypeError as e:\n",
    "    d = str(e)\n",
    "\n",
    "# e. ((11 % 3) + 2) != 8 / 2\n",
    "e = ((11 % 3) + 2) != 8 / 2\n",
    "\n",
    "a, b, c, d, e"
   ]
  },
  {
   "cell_type": "code",
   "execution_count": 2,
   "id": "4aa9caa6-14bf-4914-b994-b9c5bd5ece31",
   "metadata": {},
   "outputs": [
    {
     "data": {
      "text/plain": [
       "(False, True, False, True, True, True)"
      ]
     },
     "execution_count": 2,
     "metadata": {},
     "output_type": "execute_result"
    }
   ],
   "source": [
    "#Boolean Expressions\n",
    "p, q, r = 11, 5, 4\n",
    "\n",
    "bool_a = ((p - r) == (r + q))\n",
    "bool_b = (((p % 3) + q) != (r % 2))\n",
    "bool_c = ((q - 3) == (p % 2 + q))\n",
    "bool_d = ((r + q) != ((p * 2) % 2))\n",
    "bool_e = ((((q % 3) + p) > (r % 2)))\n",
    "bool_f = (((r + p)) <= (q * 5))\n",
    "\n",
    "bool_a, bool_b, bool_c, bool_d, bool_e, bool_f"
   ]
  },
  {
   "cell_type": "code",
   "execution_count": 4,
   "id": "7ab0512a-931d-4e66-9053-8efb5d24742a",
   "metadata": {},
   "outputs": [
    {
     "data": {
      "text/plain": [
       "'HoneyBooBooBoo'"
      ]
     },
     "execution_count": 4,
     "metadata": {},
     "output_type": "execute_result"
    }
   ],
   "source": [
    "#String Operations\n",
    "result_1 = \"Honey\" + \"Boo\" * 3\n",
    "result_1"
   ]
  },
  {
   "cell_type": "code",
   "execution_count": 5,
   "id": "4cacbc3b-0912-4a9b-a2b2-abac5d0fdf08",
   "metadata": {},
   "outputs": [
    {
     "data": {
      "text/plain": [
       "'Berlin'"
      ]
     },
     "execution_count": 5,
     "metadata": {},
     "output_type": "execute_result"
    }
   ],
   "source": [
    "#Dictionary Operations\n",
    "capitals = {}\n",
    "capitals['Murica'] = 'Warshington'\n",
    "capitals['Germany'] = 'Bonn'\n",
    "capitals['France'] = 'Paris'\n",
    "capitals['Engalnd'] = 'London'\n",
    "capitals['Germany'] = 'Berlin'\n",
    "\n",
    "result_2 = capitals['Germany']\n",
    "result_2"
   ]
  },
  {
   "cell_type": "code",
   "execution_count": 6,
   "id": "94c99199-ec1e-43dc-94f2-40e1f2b9d731",
   "metadata": {},
   "outputs": [
    {
     "data": {
      "text/plain": [
       "'can only concatenate str (not \"int\") to str'"
      ]
     },
     "execution_count": 6,
     "metadata": {},
     "output_type": "execute_result"
    }
   ],
   "source": [
    "#String and Integer Addition\n",
    "a = \"23\"\n",
    "b = 9\n",
    "try:\n",
    "    result_3 = a + b\n",
    "except TypeError as e:\n",
    "    result_3 = str(e)\n",
    "\n",
    "result_3"
   ]
  },
  {
   "cell_type": "code",
   "execution_count": 7,
   "id": "33bfc04b-760a-4c45-b042-cd3a3dee2170",
   "metadata": {},
   "outputs": [
    {
     "name": "stdout",
     "output_type": "stream",
     "text": [
      "b\n",
      "c\n",
      "['a', 'b', 'o', 'c', 'p', 'x']\n",
      "['a', 'b', 'o', 'c', 'p']\n"
     ]
    }
   ],
   "source": [
    "#List Operations\n",
    "letters = [\"a\", \"b\", \"o\", \"c\", \"p\"]\n",
    "\n",
    "result_4a = letters[1]\n",
    "result_4b = letters[len(letters) - 2]\n",
    "result_4c = letters + [\"x\"]\n",
    "result_4d = letters\n",
    "\n",
    "print(result_4a)\n",
    "print(result_4b)\n",
    "print(result_4c)\n",
    "print(result_4d)"
   ]
  },
  {
   "cell_type": "code",
   "execution_count": 8,
   "id": "c9b406e2-6ae4-42ba-ad0a-00b45ebf348c",
   "metadata": {},
   "outputs": [
    {
     "data": {
      "text/plain": [
       "'h a n d s'"
      ]
     },
     "execution_count": 8,
     "metadata": {},
     "output_type": "execute_result"
    }
   ],
   "source": [
    "#Join and Split String\n",
    "result_5 = ' '.join('h a n d s'.split())\n",
    "result_5"
   ]
  },
  {
   "cell_type": "code",
   "execution_count": 9,
   "id": "616bc494-093b-425b-949e-77eafce782ad",
   "metadata": {},
   "outputs": [
    {
     "data": {
      "text/plain": [
       "3"
      ]
     },
     "execution_count": 9,
     "metadata": {},
     "output_type": "execute_result"
    }
   ],
   "source": [
    "#JSON Operations\n",
    "import json\n",
    "\n",
    "json_string = '[{\"key1\": \"value1\"}, [1, 2, 3], {\"key2\": \"value2\"}]'\n",
    "result_6 = json.loads(json_string)[1][2]\n",
    "result_6"
   ]
  },
  {
   "cell_type": "code",
   "execution_count": 10,
   "id": "59662599-2709-4b5b-836e-153a2dbb7185",
   "metadata": {},
   "outputs": [
    {
     "data": {
      "text/plain": [
       "0"
      ]
     },
     "execution_count": 10,
     "metadata": {},
     "output_type": "execute_result"
    }
   ],
   "source": [
    "#Finding Divisible Index\n",
    "def pembagi_indeks1(nums, divisor):\n",
    "    for i in range(len(nums)):\n",
    "        if nums[i] % divisor == 0:\n",
    "            return i\n",
    "    return -1\n",
    "\n",
    "vals = [100, 66, 55, 64, 41, 35, 18, 64]\n",
    "result_7 = pembagi_indeks1(vals, 5)\n",
    "result_7"
   ]
  },
  {
   "cell_type": "code",
   "execution_count": 11,
   "id": "d80c26e5-a7a2-48d2-b6c6-a46efdcb0333",
   "metadata": {},
   "outputs": [
    {
     "name": "stdout",
     "output_type": "stream",
     "text": [
      "4\n"
     ]
    }
   ],
   "source": [
    "#Mystery Function\n",
    "def mystery(n, m):\n",
    "    p = 0\n",
    "    e = 0\n",
    "    while p < n:\n",
    "        p += 1\n",
    "        e += m\n",
    "    return p\n",
    "\n",
    "print(mystery(4, 3)) "
   ]
  },
  {
   "cell_type": "code",
   "execution_count": null,
   "id": "2f043df1-5289-4c12-b56b-f68f92efb319",
   "metadata": {},
   "outputs": [],
   "source": []
  }
 ],
 "metadata": {
  "kernelspec": {
   "display_name": "Python 3 (ipykernel)",
   "language": "python",
   "name": "python3"
  },
  "language_info": {
   "codemirror_mode": {
    "name": "ipython",
    "version": 3
   },
   "file_extension": ".py",
   "mimetype": "text/x-python",
   "name": "python",
   "nbconvert_exporter": "python",
   "pygments_lexer": "ipython3",
   "version": "3.12.0"
  }
 },
 "nbformat": 4,
 "nbformat_minor": 5
}
